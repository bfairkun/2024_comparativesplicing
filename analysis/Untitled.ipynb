{
 "cells": [
  {
   "cell_type": "code",
   "execution_count": 6,
   "id": "cc2449d3-0033-43a9-a666-8e25c90d0602",
   "metadata": {},
   "outputs": [],
   "source": [
    "import pandas as pd\n",
    "import os"
   ]
  },
  {
   "cell_type": "code",
   "execution_count": 7,
   "id": "e0cd1002-8710-461d-8938-7e18b0bb42e1",
   "metadata": {},
   "outputs": [],
   "source": [
    "dat = pd.read_csv(\"../code/config/STAR_Genome_List.tsv\", sep='\\t')"
   ]
  },
  {
   "cell_type": "code",
   "execution_count": null,
   "id": "bd686b31-371c-4a4d-ae04-ea3075a1810d",
   "metadata": {},
   "outputs": [],
   "source": []
  }
 ],
 "metadata": {
  "kernelspec": {
   "display_name": "conda_jupyter",
   "language": "python",
   "name": "conda_jupyter"
  },
  "language_info": {
   "codemirror_mode": {
    "name": "ipython",
    "version": 3
   },
   "file_extension": ".py",
   "mimetype": "text/x-python",
   "name": "python",
   "nbconvert_exporter": "python",
   "pygments_lexer": "ipython3",
   "version": "3.12.3"
  }
 },
 "nbformat": 4,
 "nbformat_minor": 5
}
