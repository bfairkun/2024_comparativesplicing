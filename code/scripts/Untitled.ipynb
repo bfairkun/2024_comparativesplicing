{
 "cells": [
  {
   "cell_type": "code",
   "execution_count": null,
   "id": "587a5f68-6eb7-4344-a723-4e01a2acdb24",
   "metadata": {},
   "outputs": [],
   "source": []
  },
  {
   "cell_type": "code",
   "execution_count": null,
   "id": "32bfe2d7-5773-4dfa-8d5b-54b5d386ad1a",
   "metadata": {},
   "outputs": [],
   "source": []
  }
 ],
 "metadata": {
  "kernelspec": {
   "display_name": "python_from_conda_env",
   "language": "python",
   "name": "python_from_conda_env"
  },
  "language_info": {
   "codemirror_mode": {
    "name": "ipython",
    "version": 3
   },
   "file_extension": ".py",
   "mimetype": "text/x-python",
   "name": "python",
   "nbconvert_exporter": "python",
   "pygments_lexer": "ipython3",
   "version": "3.6.13"
  }
 },
 "nbformat": 4,
 "nbformat_minor": 5
}
