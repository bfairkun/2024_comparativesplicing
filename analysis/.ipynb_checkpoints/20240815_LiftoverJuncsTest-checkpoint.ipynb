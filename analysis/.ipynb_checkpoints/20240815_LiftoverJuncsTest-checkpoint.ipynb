{
 "cells": [
  {
   "cell_type": "code",
   "execution_count": 10,
   "id": "143bf2fa-4727-47cc-9c51-ff16e5020340",
   "metadata": {},
   "outputs": [],
   "source": [
    "import pandas as pd\n",
    "import os\n",
    "from pybedtools import BedTool\n"
   ]
  },
  {
   "cell_type": "code",
   "execution_count": null,
   "id": "6775593c-443a-43dd-8d28-35f81139463c",
   "metadata": {},
   "outputs": [],
   "source": []
  },
  {
   "cell_type": "code",
   "execution_count": 11,
   "id": "e0cd1002-8710-461d-8938-7e18b0bb42e1",
   "metadata": {},
   "outputs": [],
   "source": [
    "mac_ints = BedTool('../code/rna-seq/SplicingAnalysis/ObservedJuncsAnnotations/Macaque_UCSC.rheMac10_ensv101.uniq.annotated.tsv.gz')\n"
   ]
  },
  {
   "cell_type": "code",
   "execution_count": 12,
   "id": "bfe7b12b-46fa-4125-a3b7-61902855ca88",
   "metadata": {},
   "outputs": [
    {
     "data": {
      "text/plain": [
       "<BedTool(../code/rna-seq/SplicingAnalysis/ObservedJuncsAnnotations/Macaque_UCSC.rheMac10_ensv101.uniq.annotated.tsv.gz)>"
      ]
     },
     "execution_count": 12,
     "metadata": {},
     "output_type": "execute_result"
    }
   ],
   "source": [
    "mac_ints"
   ]
  },
  {
   "cell_type": "code",
   "execution_count": null,
   "id": "cb48e778-fec4-4462-83ac-49605a6a40dc",
   "metadata": {},
   "outputs": [],
   "source": []
  }
 ],
 "metadata": {
  "kernelspec": {
   "display_name": "conda_jupyter",
   "language": "python",
   "name": "conda_jupyter"
  },
  "language_info": {
   "codemirror_mode": {
    "name": "ipython",
    "version": 3
   },
   "file_extension": ".py",
   "mimetype": "text/x-python",
   "name": "python",
   "nbconvert_exporter": "python",
   "pygments_lexer": "ipython3",
   "version": "3.12.3"
  }
 },
 "nbformat": 4,
 "nbformat_minor": 5
}
